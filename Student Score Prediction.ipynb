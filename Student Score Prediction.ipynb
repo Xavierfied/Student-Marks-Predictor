{
 "cells": [
  {
   "cell_type": "code",
   "id": "initial_id",
   "metadata": {
    "ExecuteTime": {
     "end_time": "2025-09-16T11:21:21.582317Z",
     "start_time": "2025-09-16T11:21:21.300785Z"
    }
   },
   "source": [
    "import numpy as np \n",
    "import pandas as pd\n",
    "import matplotlib.pyplot as plt\n",
    "import seaborn as sns\n"
   ],
   "execution_count": 1,
   "outputs": []
  },
  {
   "cell_type": "code",
   "id": "3fcb07c528786245",
   "metadata": {
    "ExecuteTime": {
     "end_time": "2025-09-16T11:21:21.735320Z",
     "start_time": "2025-09-16T11:21:21.583322Z"
    }
   },
   "source": [
    "from sklearn.model_selection import train_test_split\n",
    "\n",
    "from sklearn.linear_model import LinearRegression\n",
    "from sklearn.metrics import mean_squared_error\n",
    "\n",
    "from sklearn.preprocessing import PolynomialFeatures\n",
    "from sklearn.metrics import root_mean_squared_error\n",
    "\n",
    "from sklearn.preprocessing import OrdinalEncoder, OneHotEncoder\n",
    "from sklearn.compose import ColumnTransformer"
   ],
   "execution_count": 2,
   "outputs": []
  },
  {
   "cell_type": "code",
   "id": "311f44791c59c44",
   "metadata": {
    "ExecuteTime": {
     "end_time": "2025-09-16T11:21:21.740328Z",
     "start_time": "2025-09-16T11:21:21.737328Z"
    }
   },
   "source": [
    "DATA = \"StudentPerformanceFactors.csv\""
   ],
   "execution_count": 3,
   "outputs": []
  },
  {
   "cell_type": "markdown",
   "id": "229bbd6ed463dcee",
   "metadata": {},
   "source": [
    "# ~~~~~~~~~~~~~~~~\n",
    "# DATA EXPLORATION |\n",
    "# ~~~~~~~~~~~~~~~~"
   ]
  },
  {
   "cell_type": "code",
   "id": "cdabdb5e2b83817b",
   "metadata": {
    "ExecuteTime": {
     "end_time": "2025-09-16T11:21:21.763248Z",
     "start_time": "2025-09-16T11:21:21.740833Z"
    }
   },
   "source": [
    "df = pd.read_csv(DATA)"
   ],
   "execution_count": 4,
   "outputs": []
  },
  {
   "metadata": {
    "ExecuteTime": {
     "end_time": "2025-09-16T11:21:21.766569Z",
     "start_time": "2025-09-16T11:21:21.764255Z"
    }
   },
   "cell_type": "code",
   "source": "",
   "id": "f48a7c51e2df5a7c",
   "execution_count": 4,
   "outputs": []
  },
  {
   "cell_type": "code",
   "id": "81aa78937e240db3",
   "metadata": {
    "ExecuteTime": {
     "end_time": "2025-09-16T11:21:21.785410Z",
     "start_time": "2025-09-16T11:21:21.767576Z"
    }
   },
   "source": [
    "df.head(10)"
   ],
   "execution_count": 5,
   "outputs": []
  },
  {
   "cell_type": "code",
   "id": "dfc0ed7cce1669b9",
   "metadata": {
    "ExecuteTime": {
     "end_time": "2025-09-16T11:21:21.858169Z",
     "start_time": "2025-09-16T11:21:21.786418Z"
    }
   },
   "source": [
    "df.describe()"
   ],
   "execution_count": 6,
   "outputs": []
  },
  {
   "cell_type": "markdown",
   "id": "35d8b55af9c2f683",
   "metadata": {},
   "source": [
    "# ~~~~~~~~~~~~~~~~~~~~~~~~~~~~~~\n",
    "# Dealing with Entries with Missing Values |\n",
    "# ~~~~~~~~~~~~~~~~~~~~~~~~~~~~~~"
   ]
  },
  {
   "cell_type": "code",
   "id": "72c7351d0163307d",
   "metadata": {
    "ExecuteTime": {
     "end_time": "2025-09-16T11:21:21.867177Z",
     "start_time": "2025-09-16T11:21:21.859175Z"
    }
   },
   "source": [
    "# Missing Values\n",
    "missing_values_count = df.isnull().sum()\n",
    "print(missing_values_count)"
   ],
   "execution_count": 7,
   "outputs": []
  },
  {
   "cell_type": "code",
   "id": "e3a872f9de9ef01f",
   "metadata": {
    "ExecuteTime": {
     "end_time": "2025-09-16T11:21:21.875691Z",
     "start_time": "2025-09-16T11:21:21.867682Z"
    }
   },
   "source": [
    "missing_percentage = (df.isnull().sum() / len(df)) * 100\n",
    "print(missing_percentage)"
   ],
   "execution_count": 8,
   "outputs": []
  },
  {
   "cell_type": "code",
   "id": "5ee70d86164abe87",
   "metadata": {
    "ExecuteTime": {
     "end_time": "2025-09-16T11:21:21.885801Z",
     "start_time": "2025-09-16T11:21:21.876699Z"
    }
   },
   "source": [
    "# Since the Missing values for every column is Less than 5 percent, and they are MCAR, I will drop the said rows for a complete dataset\n",
    "df = df.dropna(axis=0)"
   ],
   "execution_count": 9,
   "outputs": []
  },
  {
   "cell_type": "code",
   "id": "b277761dcf662b71",
   "metadata": {
    "ExecuteTime": {
     "end_time": "2025-09-16T11:21:21.899819Z",
     "start_time": "2025-09-16T11:21:21.887810Z"
    }
   },
   "source": [
    "missing_values_count = df.isnull().sum()\n",
    "print(missing_values_count)"
   ],
   "execution_count": 10,
   "outputs": []
  },
  {
   "cell_type": "markdown",
   "id": "7069d7b45be55f97",
   "metadata": {},
   "source": [
    "# ~~~~~~~~~~~~~~~~\n",
    "# DATA VISUALIZATION|\n",
    "# ~~~~~~~~~~~~~~~~"
   ]
  },
  {
   "cell_type": "code",
   "id": "67e062e4948be8ee",
   "metadata": {
    "ExecuteTime": {
     "end_time": "2025-09-16T11:21:21.907502Z",
     "start_time": "2025-09-16T11:21:21.903338Z"
    }
   },
   "source": [
    "# Plotting the Study to Hours Studied Relation\n",
    "\n",
    "studied_hours = df['Hours_Studied']\n",
    "test_scores   = df['Exam_Score']\n"
   ],
   "execution_count": 11,
   "outputs": []
  },
  {
   "cell_type": "code",
   "id": "f9a416b7c6b8d90f",
   "metadata": {
    "ExecuteTime": {
     "end_time": "2025-09-16T11:21:22.412015Z",
     "start_time": "2025-09-16T11:21:21.909513Z"
    }
   },
   "source": [
    "# sCATTER PLOT\n",
    "\n",
    "# plt.scatter(test_scores, studied_hours, alpha=0.5)\n",
    "sns.regplot(x=test_scores, y=studied_hours, data=df,\n",
    "            scatter_kws={\"color\": \"darkblue\", \"alpha\": 0.7},\n",
    "            line_kws={\"color\":\"red\", \"linestyle\":\"--\"})\n",
    "\n",
    "\n",
    "plt.title(\"Score to Study Hours Plot\")\n",
    "plt.xlabel(\"Test Scores\")\n",
    "plt.ylabel(\"Hours Studied\")\n",
    "\n",
    "plt.show()\n"
   ],
   "execution_count": 12,
   "outputs": []
  },
  {
   "cell_type": "markdown",
   "id": "d4d9c8e177d81763",
   "metadata": {},
   "source": [
    "# ~~~~~~~~~~~~~~~~~~~~\n",
    "# Prepping Data for Modeling | \n",
    "# ~~~~~~~~~~~~~~~~~~~~"
   ]
  },
  {
   "cell_type": "code",
   "id": "c1b0c4cd054c7d76",
   "metadata": {
    "ExecuteTime": {
     "end_time": "2025-09-16T11:21:22.418215Z",
     "start_time": "2025-09-16T11:21:22.413022Z"
    }
   },
   "source": [
    "# Loading in the Features (X) and Target (y)\n",
    "\n",
    "X = df[['Hours_Studied']]\n",
    "y = df['Exam_Score']\n"
   ],
   "execution_count": 13,
   "outputs": []
  },
  {
   "cell_type": "code",
   "id": "5bb8e82db348a9b6",
   "metadata": {
    "ExecuteTime": {
     "end_time": "2025-09-16T11:21:22.427617Z",
     "start_time": "2025-09-16T11:21:22.419222Z"
    }
   },
   "source": [
    "# Splitting the said data\n",
    "X_train, X_test, y_train, y_test = train_test_split(X, y, test_size=0.2, random_state=42)\n",
    "\n",
    "# Printing the Size\n",
    "print(\"Shape of X_train:\", X_train.shape)\n",
    "print(\"Shape of X_test:\", X_test.shape)\n",
    "print(\"Shape of y_train:\", y_train.shape)\n",
    "print(\"Shape of y_test:\", y_test.shape)\n"
   ],
   "execution_count": 14,
   "outputs": []
  },
  {
   "cell_type": "markdown",
   "id": "20040fe6725021f",
   "metadata": {},
   "source": [
    "# ~~~~~~~~~~~~~~~~~~~~~~~~~~~~~~~~~~~\n",
    "# Training the linear Model    | via Linear regression\n",
    "# ~~~~~~~~~~~~~~~~~~~~~~~~~~~~~~~~~~~\n",
    "Studying HOurs + Exam Scores"
   ]
  },
  {
   "cell_type": "code",
   "id": "4a956875ee128f55",
   "metadata": {
    "ExecuteTime": {
     "end_time": "2025-09-16T11:21:22.469624Z",
     "start_time": "2025-09-16T11:21:22.428624Z"
    }
   },
   "source": [
    "# Training on the X and y data\n",
    "linear_model = LinearRegression()\n",
    "linear_model.fit(X_train, y_train)"
   ],
   "execution_count": 15,
   "outputs": []
  },
  {
   "cell_type": "markdown",
   "id": "90cec4c89bf1fd28",
   "metadata": {},
   "source": [
    "# ~~~~~~~~~~~~~~~~~~~~\n",
    "# Evaluating the linear Model    |\n",
    "# ~~~~~~~~~~~~~~~~~~~~"
   ]
  },
  {
   "cell_type": "code",
   "id": "3f480be43fdd82fc",
   "metadata": {
    "ExecuteTime": {
     "end_time": "2025-09-16T11:21:22.476320Z",
     "start_time": "2025-09-16T11:21:22.471137Z"
    }
   },
   "source": [
    "# Predictions on the X\n",
    "predictions = linear_model.predict(X_test)"
   ],
   "execution_count": 16,
   "outputs": []
  },
  {
   "cell_type": "code",
   "id": "7b7adcf2784b7be5",
   "metadata": {
    "ExecuteTime": {
     "end_time": "2025-09-16T11:21:22.482777Z",
     "start_time": "2025-09-16T11:21:22.477327Z"
    }
   },
   "source": [
    "# Eval the output\n",
    "\n",
    "mse = mean_squared_error(y_test, predictions)\n",
    "print(f\"Mean Squared Error on Test Data: {mse}\")"
   ],
   "execution_count": 17,
   "outputs": []
  },
  {
   "cell_type": "code",
   "id": "44fea74b9d8a278e",
   "metadata": {
    "ExecuteTime": {
     "end_time": "2025-09-16T11:21:22.487950Z",
     "start_time": "2025-09-16T11:21:22.483784Z"
    }
   },
   "source": [
    "rmse = np.sqrt(mse)\n",
    "print(f\"RMSE: {rmse:.2f}\")"
   ],
   "execution_count": 18,
   "outputs": []
  },
  {
   "cell_type": "code",
   "id": "c4aad33a93e4d5e3",
   "metadata": {
    "ExecuteTime": {
     "end_time": "2025-09-16T11:21:22.498311Z",
     "start_time": "2025-09-16T11:21:22.488961Z"
    }
   },
   "source": [
    "# Make predictions on the test set\n",
    "y_pred = linear_model.predict(X_test)\n",
    "\n",
    "# Calculate the Root Mean Squared Error (RMSE)\n",
    "rmse = root_mean_squared_error(y_test, y_pred)\n",
    "print(f\"Root Mean Squared Error: {rmse}\")\n",
    "\n",
    "# Print the R-squared score\n",
    "r_squared = linear_model.score(X_test, y_test)\n",
    "print(f\"R-squared Score: {r_squared}\")"
   ],
   "execution_count": 19,
   "outputs": []
  },
  {
   "cell_type": "code",
   "id": "a7026ab50c3c3fc2",
   "metadata": {
    "ExecuteTime": {
     "end_time": "2025-09-16T11:21:22.754132Z",
     "start_time": "2025-09-16T11:21:22.499318Z"
    }
   },
   "source": [
    "# Visualizing the result\n",
    "\n",
    "sns.regplot(x=predictions, y=y_test, data=df,\n",
    "            scatter_kws={\"color\": \"darkblue\", \"alpha\": 0.7},\n",
    "            line_kws={\"color\":\"red\", \"linestyle\":\"--\"})\n",
    "# plt.scatter(predictions, y_test, label='Predictions')\n",
    "\n",
    "plt.title(\"Results Visualization\")\n",
    "plt.xlabel(\"Actual Test Scores\")\n",
    "plt.ylabel(\"Predicted Test Scores\")\n",
    "\n",
    "# plt.legend()\n",
    "plt.grid(True)\n",
    "plt.show()"
   ],
   "execution_count": 20,
   "outputs": []
  },
  {
   "cell_type": "code",
   "id": "74456ed30da0062b",
   "metadata": {
    "ExecuteTime": {
     "end_time": "2025-09-16T11:21:22.758137Z",
     "start_time": "2025-09-16T11:21:22.755142Z"
    }
   },
   "source": [],
   "execution_count": 20,
   "outputs": []
  },
  {
   "cell_type": "markdown",
   "id": "f2b17c6b9c0392e9",
   "metadata": {},
   "source": [
    "# ~~~~~~~~~~~~~~~~~~~~~~~~~~~~~~~~~~~~~~\n",
    "# Training the linear Model    | via Polynomial regression\n",
    "# ~~~~~~~~~~~~~~~~~~~~~~~~~~~~~~~~~~~~~~\n",
    "Studying Hours + Exam scores"
   ]
  },
  {
   "cell_type": "code",
   "id": "65b845c8b9a8fc3b",
   "metadata": {
    "ExecuteTime": {
     "end_time": "2025-09-16T11:21:22.769928Z",
     "start_time": "2025-09-16T11:21:22.758640Z"
    }
   },
   "source": [
    "df.head()"
   ],
   "execution_count": 21,
   "outputs": []
  },
  {
   "cell_type": "markdown",
   "id": "47877cf533bd3449",
   "metadata": {},
   "source": [
    "preparing the dataset"
   ]
  },
  {
   "cell_type": "code",
   "id": "108967e29bfb7e39",
   "metadata": {
    "ExecuteTime": {
     "end_time": "2025-09-16T11:21:22.776777Z",
     "start_time": "2025-09-16T11:21:22.770936Z"
    }
   },
   "source": [
    "# No Need to Define X, and y, Test and train variables as already done prior\n",
    "# Now Calculating for c(x^2)\n",
    "\n",
    "poly_features = PolynomialFeatures(degree=2, include_bias=False)# Bias is False cuz Linear Regression will add it \n",
    "\n",
    "X_poly_train = poly_features.fit_transform(X_train)\n",
    "X_poly_test  = poly_features.transform(X_test)"
   ],
   "execution_count": 22,
   "outputs": []
  },
  {
   "cell_type": "markdown",
   "id": "27ced2f146cc86fe",
   "metadata": {},
   "source": [
    "# Training Model"
   ]
  },
  {
   "cell_type": "code",
   "id": "4f1d8e6dc9c475eb",
   "metadata": {
    "ExecuteTime": {
     "end_time": "2025-09-16T11:21:22.788832Z",
     "start_time": "2025-09-16T11:21:22.777786Z"
    }
   },
   "source": [
    "poly_model = LinearRegression()\n",
    "poly_model.fit(X_poly_train, y_train)"
   ],
   "execution_count": 23,
   "outputs": []
  },
  {
   "cell_type": "markdown",
   "id": "3e2f5d985eeeca34",
   "metadata": {},
   "source": [
    "# ~~~~~~~~~~~~~~~~~~~~~~~~\n",
    "# Evaluating the Polynomial Model    |\n",
    "# ~~~~~~~~~~~~~~~~~~~~~~~~"
   ]
  },
  {
   "cell_type": "code",
   "id": "57c4a1fd17ee1e05",
   "metadata": {
    "ExecuteTime": {
     "end_time": "2025-09-16T11:21:22.794976Z",
     "start_time": "2025-09-16T11:21:22.789839Z"
    }
   },
   "source": [
    "# Making PRedictions\n",
    "p_predictions = poly_model.predict(X_poly_test)\n",
    " \n",
    "# Eval the model\n",
    "p_rmse = root_mean_squared_error(y_test, p_predictions)\n",
    "\n",
    "# R-SQUARE\n",
    "p_r_square = poly_model.score(X_poly_test,y_test)\n",
    "\n",
    "\n",
    "print(f\"Root Mean Squared Error on Test Data is:{p_rmse}\")\n",
    "print(f\"Root Square for Polynomial Reg Model is: {p_r_square:.2f}\")\n"
   ],
   "execution_count": 24,
   "outputs": []
  },
  {
   "cell_type": "code",
   "id": "a8add5408ae4ce96",
   "metadata": {
    "ExecuteTime": {
     "end_time": "2025-09-16T11:21:22.914454Z",
     "start_time": "2025-09-16T11:21:22.795985Z"
    }
   },
   "source": [
    "sns.regplot(\n",
    "    x=p_predictions,\n",
    "    y=y_test,\n",
    "    data=df,\n",
    "    order=2,\n",
    "    ci=None,\n",
    "    color='green',  # You can customize the color here\n",
    "    scatter_kws={'color': 'blue'} # Customize scatter plot color\n",
    ")\n",
    "\n",
    "# Add labels and a title to the plot\n",
    "plt.xlabel(\"Predicted\")\n",
    "plt.ylabel(\"Exam Score\")\n",
    "plt.title(\"Polynomial Regression\")\n",
    "\n",
    "\n",
    "# Display the plot\n",
    "plt.show()"
   ],
   "execution_count": 25,
   "outputs": []
  },
  {
   "cell_type": "markdown",
   "id": "aa50b9047866e9b7",
   "metadata": {},
   "source": [
    "# ~~~~~~~~~~~~~~~~~~~~~~~~~~~~~~~~~~~~~~~~~~~~~~~~~~~~~~~~~~~~~~~~~~~~~~~~~~~~~~~~\n",
    "# Conclusion\n",
    "## Linear Regression vs Polynomial Regression\n",
    "\n",
    "As seen in the code above, the accuracy for Linear Model is Given Below:\n",
    "\n",
    "- Root Mean Squared Error: 3.5145033503249836\n",
    "- R-squared Score: 0.20513060832466712\n",
    "\n",
    "and, for the Polynomial Model is:\n",
    "\n",
    "- Root Mean Squared Error on Test Data is:3.5146186440091056\n",
    "- Root Square for Polynomial Reg Model is: 0.21\n",
    "\n",
    "Thus, both the results are similar with hardly any difference Given that the only used features are the Study hours and Exam Scores.\n",
    "# ~~~~~~~~~~~~~~~~~~~~~~~~~~~~~~~~~~~~~~~~~~~~~~~~~~~~~~~~~~~~~~~~~~~~~~~~~~~~~~~~"
   ]
  },
  {
   "cell_type": "markdown",
   "id": "84bced4c6716d69c",
   "metadata": {},
   "source": [
    "# ~~~~~~~~~~~~~~~~~~~~~~~~~~~~~~~~~~~~~~~~~~~~~~~~~\n",
    "# Finding the Best Combination of Features for most accurate results\n",
    "# ~~~~~~~~~~~~~~~~~~~~~~~~~~~~~~~~~~~~~~~~~~~~~~~~~"
   ]
  },
  {
   "cell_type": "markdown",
   "id": "42304d33428386d7",
   "metadata": {},
   "source": [
    "# ~~~~~~~~~~~~~~~~~~~~~\n",
    "# Prepping Data for Modeling |\n",
    "# ~~~~~~~~~~~~~~~~~~~~~"
   ]
  },
  {
   "cell_type": "code",
   "id": "6a3ecbd56e33c210",
   "metadata": {
    "ExecuteTime": {
     "end_time": "2025-09-16T11:21:22.919551Z",
     "start_time": "2025-09-16T11:21:22.915461Z"
    }
   },
   "source": [
    "df.columns"
   ],
   "execution_count": 26,
   "outputs": []
  },
  {
   "cell_type": "code",
   "id": "a0a954ed575f6",
   "metadata": {
    "ExecuteTime": {
     "end_time": "2025-09-16T11:21:22.924232Z",
     "start_time": "2025-09-16T11:21:22.920559Z"
    }
   },
   "source": [
    "# Loading in the Features (X) and Target (y)\n",
    "\n",
    "X = df[['Hours_Studied', 'Attendance', 'Sleep_Hours', 'Physical_Activity', 'Tutoring_Sessions']]\n",
    "y = df['Exam_Score']\n"
   ],
   "execution_count": 27,
   "outputs": []
  },
  {
   "cell_type": "code",
   "id": "a94ad2070539c90",
   "metadata": {
    "ExecuteTime": {
     "end_time": "2025-09-16T11:21:22.931401Z",
     "start_time": "2025-09-16T11:21:22.925237Z"
    }
   },
   "source": [
    "# Splitting the said data\n",
    "X_train, X_test, y_train, y_test = train_test_split(X, y, test_size=0.2, random_state=42)\n",
    "\n",
    "# Printing the Size\n",
    "print(\"Shape of X_train:\", X_train.shape)\n",
    "print(\"Shape of X_test:\", X_test.shape)\n",
    "print(\"Shape of y_train:\", y_train.shape)\n",
    "print(\"Shape of y_test:\", y_test.shape)"
   ],
   "execution_count": 28,
   "outputs": []
  },
  {
   "cell_type": "markdown",
   "id": "deca59662edf7787",
   "metadata": {},
   "source": [
    "# ~~~~~~~~~~~~~~~~~~~~~\n",
    "# Visualizing Data for Modeling |\n",
    "# ~~~~~~~~~~~~~~~~~~~~~"
   ]
  },
  {
   "cell_type": "code",
   "id": "a79aae08b7650a4",
   "metadata": {
    "ExecuteTime": {
     "end_time": "2025-09-16T11:21:27.196088Z",
     "start_time": "2025-09-16T11:21:22.932409Z"
    }
   },
   "source": [
    "# Create a new DataFrame with only the features you want to visualize, plus the target variable\n",
    "data_to_plot = df[['Hours_Studied', 'Attendance', 'Sleep_Hours', 'Physical_Activity', 'Tutoring_Sessions', 'Exam_Score']]\n",
    "\n",
    "# Use seaborn's pairplot function\n",
    "sns.pairplot(data_to_plot)\n",
    "plt.show()"
   ],
   "execution_count": 29,
   "outputs": []
  },
  {
   "cell_type": "code",
   "id": "2cc7663fb7d33762",
   "metadata": {
    "ExecuteTime": {
     "end_time": "2025-09-16T11:21:27.405623Z",
     "start_time": "2025-09-16T11:21:27.196591Z"
    }
   },
   "source": [
    "# Calculate the correlation matrix\n",
    "correlation_matrix = df[['Hours_Studied', 'Attendance', 'Sleep_Hours', 'Physical_Activity', 'Tutoring_Sessions', 'Exam_Score']].corr()\n",
    "\n",
    "# Create a heatmap\n",
    "plt.figure(figsize=(10, 8))\n",
    "sns.heatmap(correlation_matrix, annot=True, cmap='coolwarm', fmt=\".2f\")\n",
    "plt.title('Correlation Heatmap of Features and Target')\n",
    "plt.show()\n"
   ],
   "execution_count": 30,
   "outputs": []
  },
  {
   "cell_type": "markdown",
   "id": "47faa9b9bcb2dc57",
   "metadata": {},
   "source": [
    "# ~~~~~~~~~~~~~~~~~\n",
    "# Training Linear Model |\n",
    "# ~~~~~~~~~~~~~~~~~"
   ]
  },
  {
   "cell_type": "code",
   "id": "5782d341161726c7",
   "metadata": {
    "ExecuteTime": {
     "end_time": "2025-09-16T11:21:27.417113Z",
     "start_time": "2025-09-16T11:21:27.406127Z"
    }
   },
   "source": [
    "linear_model2 = LinearRegression()\n",
    "linear_model2.fit(X_train, y_train)"
   ],
   "execution_count": 31,
   "outputs": []
  },
  {
   "cell_type": "markdown",
   "id": "b9b26f3f5599e4cd",
   "metadata": {},
   "source": [
    "# ``````````````````````\n",
    "# Evaluating the Model\n",
    "# ``````````````````````"
   ]
  },
  {
   "cell_type": "code",
   "id": "66e8d0eb33bc76b1",
   "metadata": {
    "ExecuteTime": {
     "end_time": "2025-09-16T11:21:27.422627Z",
     "start_time": "2025-09-16T11:21:27.418120Z"
    }
   },
   "source": [
    "# Predictions on the X\n",
    "predictions2 = linear_model2.predict(X_test)"
   ],
   "execution_count": 32,
   "outputs": []
  },
  {
   "cell_type": "code",
   "id": "8f0826165bc99bf9",
   "metadata": {
    "ExecuteTime": {
     "end_time": "2025-09-16T11:21:27.431076Z",
     "start_time": "2025-09-16T11:21:27.423633Z"
    }
   },
   "source": [
    "# Make predictions on the test set\n",
    "y_pred = linear_model2.predict(X_test)\n",
    "\n",
    "# Calculate the Root Mean Squared Error (RMSE)\n",
    "rmse2 = root_mean_squared_error(y_test, y_pred)\n",
    "print(f\"Root Mean Squared Error: {rmse2}\")\n",
    "\n",
    "# Print the R-squared score\n",
    "r_squared = linear_model2.score(X_test, y_test)\n",
    "print(f\"R-squared Score: {r_squared:.2f}\")"
   ],
   "execution_count": 33,
   "outputs": []
  },
  {
   "cell_type": "markdown",
   "id": "b294378a1d688113",
   "metadata": {},
   "source": [
    "# ``````````````````````\n",
    "# Visualizing the result\n",
    "# ``````````````````````"
   ]
  },
  {
   "cell_type": "code",
   "id": "983fbde7d551b8b0",
   "metadata": {
    "ExecuteTime": {
     "end_time": "2025-09-16T11:21:27.763951Z",
     "start_time": "2025-09-16T11:21:27.432083Z"
    }
   },
   "source": [
    "# Visualizing the result\n",
    "\n",
    "sns.regplot(x=predictions2, y=y_test, data=df,\n",
    "            scatter_kws={\"color\": \"blue\", \"alpha\": 0.7},\n",
    "            line_kws={\"color\":\"red\", \"linestyle\":\"--\"})\n",
    "# plt.scatter(predictions, y_test, label='Predictions')\n",
    "\n",
    "plt.title(\"Results Visualization\")\n",
    "plt.xlabel(\"Predicted Test Scores\")\n",
    "plt.ylabel(\"Actual Test Scores\")\n",
    "\n",
    "# plt.legend()\n",
    "plt.grid(True)\n",
    "plt.show()"
   ],
   "execution_count": 34,
   "outputs": []
  },
  {
   "cell_type": "markdown",
   "id": "fedb778849844030",
   "metadata": {},
   "source": [
    "# ````````````````````\n",
    "# Transforming Data for  Poly Model |\n",
    "# ````````````````````"
   ]
  },
  {
   "cell_type": "code",
   "id": "2041eff4370888c8",
   "metadata": {
    "ExecuteTime": {
     "end_time": "2025-09-16T11:21:27.771957Z",
     "start_time": "2025-09-16T11:21:27.764962Z"
    }
   },
   "source": [
    "# No Need to Define X, and y, Test and train variables as already done prior\n",
    "# Now Calculating for c(x^2)\n",
    "\n",
    "poly_features2 = PolynomialFeatures(degree=2, include_bias=False)# Bias is False cuz Linear Regression will add it \n",
    "\n",
    "X_poly_train = poly_features.fit_transform(X_train)\n",
    "X_poly_test  = poly_features.transform(X_test)"
   ],
   "execution_count": 35,
   "outputs": []
  },
  {
   "cell_type": "markdown",
   "id": "61c22e86a638a122",
   "metadata": {},
   "source": [
    "# ``````````````````````\n",
    "# Training Polynomial |\n",
    "# ``````````````````````"
   ]
  },
  {
   "cell_type": "code",
   "id": "5a920ffab06b3ce8",
   "metadata": {
    "ExecuteTime": {
     "end_time": "2025-09-16T11:21:27.783429Z",
     "start_time": "2025-09-16T11:21:27.772463Z"
    }
   },
   "source": [
    "poly_model2 = LinearRegression()\n",
    "poly_model2.fit(X_poly_train, y_train)"
   ],
   "execution_count": 36,
   "outputs": []
  },
  {
   "cell_type": "markdown",
   "id": "55c9d7c486dc20bb",
   "metadata": {},
   "source": [
    "# ``````````````````````\n",
    "# Evaluating Model|\n",
    "# ``````````````````````"
   ]
  },
  {
   "cell_type": "code",
   "id": "1b8190e6a8e8c422",
   "metadata": {
    "ExecuteTime": {
     "end_time": "2025-09-16T11:21:27.795574Z",
     "start_time": "2025-09-16T11:21:27.789438Z"
    }
   },
   "source": [
    "# Making Predictions\n",
    "p_predictions2 = poly_model2.predict(X_poly_test)\n",
    " \n",
    "# Eval the model\n",
    "p_rmse2 = root_mean_squared_error(y_test, p_predictions2)\n",
    "\n",
    "# R-SQUARE\n",
    "p_r_square2 = poly_model2.score(X_poly_test,y_test)\n",
    "\n",
    "\n",
    "print(f\"Root Mean Squared Error on Test Data is:{p_rmse2}\")\n",
    "print(f\"Root Square for Polynomial Reg Model is: {p_r_square2:.2f}\")\n"
   ],
   "execution_count": 37,
   "outputs": []
  },
  {
   "cell_type": "code",
   "id": "2fb175b5f63985bb",
   "metadata": {
    "ExecuteTime": {
     "end_time": "2025-09-16T11:21:28.108357Z",
     "start_time": "2025-09-16T11:21:27.796581Z"
    }
   },
   "source": [
    "sns.regplot(\n",
    "    x=p_predictions2, y=y_test, data=df, order=2,\n",
    "    color='green', scatter_kws={'color': 'blue'},\n",
    "    line_kws={\"color\":\"red\", \"linestyle\":\"--\"})# Customize scatter plot color\n",
    "\n",
    "\n",
    "# Add labels and a title to the plot\n",
    "plt.xlabel(\"Predicted\")\n",
    "plt.ylabel(\"Exam Score\")\n",
    "plt.title(\"Polynomial Regression\")\n",
    "\n",
    "\n",
    "# Display the plot\n",
    "plt.grid(True)\n",
    "plt.show()"
   ],
   "execution_count": 38,
   "outputs": []
  },
  {
   "cell_type": "markdown",
   "id": "317fba41d9337a71",
   "metadata": {},
   "source": [
    "# ````````````````````````````````````````````````````````````````````````````````````\n",
    "# Note\n",
    "## Additional Features\n",
    "\n",
    "As seen in the code above, the accuracy for Models with more features have significantly more accurate results then the one with only sleep hours and giving result as close as:\n",
    "\n",
    "- Root Mean Squared Error: 2.5\n",
    "- R-squared Score: 0.58\n",
    "\n",
    "Now adding Features with string values by encoding them.\n",
    "# ````````````````````````````````````````````````````````````````````````````````````"
   ]
  },
  {
   "cell_type": "markdown",
   "id": "a23ed984afaf726a",
   "metadata": {},
   "source": [
    "# `````````````````````````\n",
    "#  Train Test Split \n",
    "# `````````````````````````"
   ]
  },
  {
   "cell_type": "code",
   "id": "6cdd9174a130b99d",
   "metadata": {
    "ExecuteTime": {
     "end_time": "2025-09-16T11:21:28.114363Z",
     "start_time": "2025-09-16T11:21:28.109362Z"
    }
   },
   "source": [
    "df['Hours_Studied'].dtype"
   ],
   "execution_count": 39,
   "outputs": []
  },
  {
   "cell_type": "code",
   "id": "dcc414d2e3496645",
   "metadata": {
    "ExecuteTime": {
     "end_time": "2025-09-16T11:21:28.121685Z",
     "start_time": "2025-09-16T11:21:28.115878Z"
    }
   },
   "source": [
    "# FIRST OF ALL Loading in the Features (X) and Target (y)\n",
    "\n",
    "X = df[['Hours_Studied', 'Attendance', 'Parental_Involvement', 'Access_to_Resources', 'Sleep_Hours', 'School_Type', 'Tutoring_Sessions', 'Internet_Access', 'Family_Income', 'Physical_Activity']]\n",
    "y = df['Exam_Score']\n",
    "\n",
    "# So the Features with Ordinal Data are: Parental_Involvement, Access_to_Resources, School_Type, Internet_Access, Family_Income, "
   ],
   "execution_count": 40,
   "outputs": []
  },
  {
   "cell_type": "code",
   "id": "5a38a3545b2ea4d6",
   "metadata": {
    "ExecuteTime": {
     "end_time": "2025-09-16T11:21:28.130051Z",
     "start_time": "2025-09-16T11:21:28.122694Z"
    }
   },
   "source": [
    "# Splitting the said data\n",
    "X_train, X_test, y_train, y_test = train_test_split(X, y, test_size=0.2, random_state=42)\n",
    "\n",
    "# Sizes for reference\n",
    "print(\"Shape of X_train:\", X_train.shape)\n",
    "print(\"Shape of X_test:\", X_test.shape)\n",
    "print(\"Shape of y_train:\", y_train.shape)\n",
    "print(\"Shape of y_test:\", y_test.shape)"
   ],
   "execution_count": 41,
   "outputs": []
  },
  {
   "cell_type": "markdown",
   "id": "9ac710563816b46",
   "metadata": {},
   "source": [
    "# ```````````````````````````````````\n",
    "#  Feature Sorting for proper Encoding\n",
    "# ```````````````````````````````````"
   ]
  },
  {
   "cell_type": "code",
   "id": "5ad9527cef97328f",
   "metadata": {
    "ExecuteTime": {
     "end_time": "2025-09-16T11:21:28.136058Z",
     "start_time": "2025-09-16T11:21:28.131059Z"
    }
   },
   "source": [
    "# Sorting Data\n",
    "object_cols = X.select_dtypes(include='object').columns.tolist()\n",
    "\n",
    "numerical_cols = X.select_dtypes(include=np.number).columns.tolist()\n",
    "ordinal_cols   = ['Parental_Involvement', 'Access_to_Resources', 'Family_Income']\n",
    "nominal_cols   = [col for col in object_cols if col not in ordinal_cols]"
   ],
   "execution_count": 42,
   "outputs": []
  },
  {
   "cell_type": "code",
   "id": "73eed4ef5457d308",
   "metadata": {
    "ExecuteTime": {
     "end_time": "2025-09-16T11:21:28.141446Z",
     "start_time": "2025-09-16T11:21:28.136564Z"
    }
   },
   "source": [
    "print(f\"Numerical Columns: {numerical_cols}\\n\")\n",
    "print(f\"Ordinal Columns: {ordinal_cols}\\n\")\n",
    "print(f\"Nominal Columns: {nominal_cols}\\n\")"
   ],
   "execution_count": 43,
   "outputs": []
  },
  {
   "cell_type": "markdown",
   "id": "f667b49c3c1822b5",
   "metadata": {},
   "source": [
    "# ````````````````````\n",
    "#  Encoding Method\n",
    "# ````````````````````"
   ]
  },
  {
   "cell_type": "code",
   "id": "af5d9a0875ba230e",
   "metadata": {
    "ExecuteTime": {
     "end_time": "2025-09-16T11:21:28.147453Z",
     "start_time": "2025-09-16T11:21:28.142454Z"
    }
   },
   "source": [
    "preprocessor = ColumnTransformer(\n",
    "    transformers=[\n",
    "        ('ordinal', OrdinalEncoder(), ordinal_cols),\n",
    "        ('onehot' , OneHotEncoder(handle_unknown='ignore'), nominal_cols),\n",
    "        ('numerical', 'passthrough', numerical_cols)\n",
    "    ],\n",
    "    remainder='drop' # Numerical columns are untouched\n",
    ")"
   ],
   "execution_count": 44,
   "outputs": []
  },
  {
   "cell_type": "code",
   "id": "16c00fa2892e4155",
   "metadata": {
    "ExecuteTime": {
     "end_time": "2025-09-16T11:21:28.166957Z",
     "start_time": "2025-09-16T11:21:28.147959Z"
    }
   },
   "source": [
    "X_train_encoded = preprocessor.fit_transform(X_train)\n",
    "X_test_encoded  = preprocessor.transform(X_test)"
   ],
   "execution_count": 45,
   "outputs": []
  },
  {
   "cell_type": "code",
   "id": "cecaff7624cd1dd0",
   "metadata": {
    "ExecuteTime": {
     "end_time": "2025-09-16T11:21:28.172963Z",
     "start_time": "2025-09-16T11:21:28.167964Z"
    }
   },
   "source": [
    "X_train_encoded.shape"
   ],
   "execution_count": 46,
   "outputs": []
  },
  {
   "cell_type": "markdown",
   "id": "7c0ad90052d43421",
   "metadata": {},
   "source": [
    "# `````````````````````````\n",
    "#  Training Linear Model\n",
    "# `````````````````````````"
   ]
  },
  {
   "cell_type": "code",
   "id": "5b0824b618e1b9d3",
   "metadata": {
    "ExecuteTime": {
     "end_time": "2025-09-16T11:21:28.182475Z",
     "start_time": "2025-09-16T11:21:28.173468Z"
    }
   },
   "source": [
    "linear_model_max = LinearRegression()\n",
    "linear_model_max.fit(X_train_encoded, y_train)"
   ],
   "execution_count": 47,
   "outputs": []
  },
  {
   "cell_type": "markdown",
   "id": "3b7191428ae519f8",
   "metadata": {},
   "source": [
    "# ``````````````````````\n",
    "#  Evaling Linear Model\n",
    "# ``````````````````````"
   ]
  },
  {
   "cell_type": "code",
   "id": "523e614f936667c5",
   "metadata": {
    "ExecuteTime": {
     "end_time": "2025-09-16T11:21:28.186938Z",
     "start_time": "2025-09-16T11:21:28.182979Z"
    }
   },
   "source": [
    "# Predictions on the X\n",
    "predictions = linear_model_max.predict(X_test_encoded)"
   ],
   "execution_count": 48,
   "outputs": []
  },
  {
   "cell_type": "code",
   "id": "b5d32951c47f2c57",
   "metadata": {
    "ExecuteTime": {
     "end_time": "2025-09-16T11:21:28.192902Z",
     "start_time": "2025-09-16T11:21:28.187946Z"
    }
   },
   "source": [
    "# Eval the output\n",
    "\n",
    "mse = mean_squared_error(y_test, predictions)\n",
    "print(f\"Mean Squared Error on Test Data: {mse}\")"
   ],
   "execution_count": 49,
   "outputs": []
  },
  {
   "cell_type": "code",
   "id": "c4caf64a296b03",
   "metadata": {
    "ExecuteTime": {
     "end_time": "2025-09-16T11:21:28.200366Z",
     "start_time": "2025-09-16T11:21:28.193908Z"
    }
   },
   "source": [
    "# Make predictions on the test set\n",
    "y_pred = linear_model_max.predict(X_test_encoded)\n",
    "\n",
    "# Calculate the Root Mean Squared Error (RMSE)\n",
    "rmse = root_mean_squared_error(y_test, y_pred)\n",
    "print(f\"Root Mean Squared Error: {rmse}\")\n",
    "\n",
    "# Print the R-squared score\n",
    "r_squared = linear_model_max.score(X_test_encoded, y_test)\n",
    "print(f\"R-squared Score: {r_squared:.2f}\")"
   ],
   "execution_count": 50,
   "outputs": []
  },
  {
   "cell_type": "markdown",
   "id": "bf3d41bbb724584b",
   "metadata": {},
   "source": [
    "# `````````````````````````\n",
    "#  Training Polynomial Model\n",
    "# `````````````````````````"
   ]
  },
  {
   "cell_type": "code",
   "id": "947ad8cd22bbe6ab",
   "metadata": {
    "ExecuteTime": {
     "end_time": "2025-09-16T11:21:28.211377Z",
     "start_time": "2025-09-16T11:21:28.201372Z"
    }
   },
   "source": [
    "poly_features_max = PolynomialFeatures(degree=2, include_bias=False)\n",
    "\n",
    "X_poly_train_max = poly_features_max.fit_transform(X_train_encoded)\n",
    "X_poly_test_max = poly_features_max.transform(X_test_encoded)"
   ],
   "execution_count": 51,
   "outputs": []
  },
  {
   "cell_type": "code",
   "id": "1541b160b94ca988",
   "metadata": {
    "ExecuteTime": {
     "end_time": "2025-09-16T11:21:28.248744Z",
     "start_time": "2025-09-16T11:21:28.211883Z"
    }
   },
   "source": [
    "poly_model_max = LinearRegression()\n",
    "\n",
    "poly_model_max.fit(X_poly_train_max, y_train)"
   ],
   "execution_count": 52,
   "outputs": []
  },
  {
   "cell_type": "code",
   "id": "de7bb026795641d7",
   "metadata": {
    "ExecuteTime": {
     "end_time": "2025-09-16T11:21:28.256243Z",
     "start_time": "2025-09-16T11:21:28.249750Z"
    }
   },
   "source": [
    "p_predictions_max = poly_model_max.predict(X_poly_test_max)\n",
    "\n",
    "mser = root_mean_squared_error(y_test,p_predictions_max)\n",
    "print(f\"R-Squared on test data is: {mser}\")\n",
    "\n",
    "print(f\"Score on the test data is: {poly_model_max.score(X_poly_test_max, y_test):.2f}\")"
   ],
   "execution_count": 53,
   "outputs": []
  },
  {
   "cell_type": "markdown",
   "id": "6b0f93a31fff07b2",
   "metadata": {},
   "source": [
    "# ````````````````````````````````````````````````````````````````````````````````````\n",
    "# Final Conclusion\n",
    "\n",
    "As seen in the above code, adding object features raised the accuracy by noticeable amount and thus by using the Polynomial Regression we are receiving relatively better results.\n",
    "# ````````````````````````````````````````````````````````````````````````````````````"
   ]
  },
  {
   "cell_type": "code",
   "id": "8e320162aebff617",
   "metadata": {
    "ExecuteTime": {
     "end_time": "2025-09-16T11:21:28.260079Z",
     "start_time": "2025-09-16T11:21:28.257250Z"
    }
   },
   "source": [],
   "execution_count": 53,
   "outputs": []
  },
  {
   "cell_type": "markdown",
   "id": "368429c8bcf7933e",
   "metadata": {},
   "source": [
    "# ``````````````````````````````\n",
    "#  Testing the Model on new data\n",
    "# ``````````````````````````````"
   ]
  },
  {
   "cell_type": "code",
   "id": "10cd3a870fac8b46",
   "metadata": {
    "ExecuteTime": {
     "end_time": "2025-09-16T11:21:28.266086Z",
     "start_time": "2025-09-16T11:21:28.261086Z"
    }
   },
   "source": [
    "X.columns"
   ],
   "execution_count": 54,
   "outputs": []
  },
  {
   "cell_type": "code",
   "id": "f4473962b3324324",
   "metadata": {
    "ExecuteTime": {
     "end_time": "2025-09-16T11:21:28.272599Z",
     "start_time": "2025-09-16T11:21:28.266593Z"
    }
   },
   "source": [
    "new_student = pd.DataFrame({\n",
    "    'Hours_Studied': [12], \n",
    "    'Attendance': [95],\n",
    "    'Parental_Involvement': ['High'],\n",
    "    'Access_to_Resources': ['High'], \n",
    "    'Sleep_Hours': [6], \n",
    "    'School_Type': ['Public'],\n",
    "    'Tutoring_Sessions': [1], \n",
    "    'Internet_Access':[\"Yes\"], \n",
    "    'Family_Income':[\"Medium\"],\n",
    "    'Physical_Activity': [3]\n",
    "})\n"
   ],
   "execution_count": 55,
   "outputs": []
  },
  {
   "cell_type": "code",
   "id": "dd1223d36a12ada6",
   "metadata": {
    "ExecuteTime": {
     "end_time": "2025-09-16T11:21:28.281600Z",
     "start_time": "2025-09-16T11:21:28.273104Z"
    }
   },
   "source": [
    "new_student_encoded = preprocessor.transform(new_student)"
   ],
   "execution_count": 56,
   "outputs": []
  },
  {
   "cell_type": "code",
   "id": "163955a0be772411",
   "metadata": {
    "ExecuteTime": {
     "end_time": "2025-09-16T11:21:28.286974Z",
     "start_time": "2025-09-16T11:21:28.282606Z"
    }
   },
   "source": [
    "new_student_final = poly_features_max.transform(new_student_encoded)"
   ],
   "execution_count": 57,
   "outputs": []
  },
  {
   "cell_type": "code",
   "id": "38bb40dcf29e17b3",
   "metadata": {
    "ExecuteTime": {
     "end_time": "2025-09-16T11:21:28.292340Z",
     "start_time": "2025-09-16T11:21:28.287984Z"
    }
   },
   "source": [
    "# THIS IS CORRECT\n",
    "predicted_score = poly_model_max.predict(new_student_final) # Step 3"
   ],
   "execution_count": 58,
   "outputs": []
  },
  {
   "cell_type": "code",
   "id": "a0c7eaace3e188d2",
   "metadata": {
    "ExecuteTime": {
     "end_time": "2025-09-16T11:21:28.297587Z",
     "start_time": "2025-09-16T11:21:28.293347Z"
    }
   },
   "source": [
    "print(f\"Marks of the Student are projected to be around: {predicted_score[0]:.1f}\")"
   ],
   "execution_count": 59,
   "outputs": []
  },
  {
   "cell_type": "code",
   "id": "a4a24bb83800c973",
   "metadata": {
    "ExecuteTime": {
     "end_time": "2025-09-16T11:21:28.303592Z",
     "start_time": "2025-09-16T11:21:28.298596Z"
    }
   },
   "source": [
    "print(\"Hello is this\")"
   ],
   "execution_count": 60,
   "outputs": []
  },
  {
   "metadata": {
    "ExecuteTime": {
     "end_time": "2025-09-16T11:21:28.313026Z",
     "start_time": "2025-09-16T11:21:28.304098Z"
    }
   },
   "cell_type": "code",
   "source": [
    "# joblib.dump(preprocessor, 'preprocessor.joblib')\n",
    "# \n",
    "# # Save the polynomial features transformer\n",
    "# joblib.dump(poly_features_max, 'poly_features_max.joblib')\n",
    "# \n",
    "# # Save the trained linear model\n",
    "# joblib.dump(poly_model_max, 'poly_model_max.joblib')\n",
    "# \n",
    "# print(\"All model components have been saved successfully.\")"
   ],
   "id": "b4151fc0455df94c",
   "execution_count": 61,
   "outputs": []
  },
  {
   "metadata": {
    "ExecuteTime": {
     "end_time": "2025-09-16T11:25:06.406109Z",
     "start_time": "2025-09-16T11:25:06.395597Z"
    }
   },
   "cell_type": "code",
   "source": "X_train",
   "id": "d0d15e1997e7b2b8",
   "execution_count": 63,
   "outputs": []
  },
  {
   "metadata": {
    "ExecuteTime": {
     "end_time": "2025-09-16T11:25:11.537825Z",
     "start_time": "2025-09-16T11:25:11.532826Z"
    }
   },
   "cell_type": "code",
   "source": "X_train_encoded",
   "id": "e3f6c75089e9b2f4",
   "execution_count": 64,
   "outputs": []
  },
  {
   "metadata": {
    "ExecuteTime": {
     "end_time": "2025-09-16T11:25:32.740111Z",
     "start_time": "2025-09-16T11:25:32.735630Z"
    }
   },
   "cell_type": "code",
   "source": "X_poly_train",
   "id": "20379f683a20bd35",
   "execution_count": 65,
   "outputs": []
  },
  {
   "metadata": {},
   "cell_type": "code",
   "execution_count": null,
   "source": "",
   "id": "6b5d19ce40074e56",
   "outputs": []
  }
 ],
 "metadata": {
  "kernelspec": {
   "display_name": "Python 3 (ipykernel)",
   "language": "python",
   "name": "python3"
  },
  "language_info": {
   "codemirror_mode": {
    "name": "ipython",
    "version": 3
   },
   "file_extension": ".py",
   "mimetype": "text/x-python",
   "name": "python",
   "nbconvert_exporter": "python",
   "pygments_lexer": "ipython3",
   "version": "3.12.3"
  }
 },
 "nbformat": 4,
 "nbformat_minor": 5
}
